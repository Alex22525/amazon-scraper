{
 "cells": [
  {
   "cell_type": "code",
   "execution_count": 35,
   "id": "24fd5aea",
   "metadata": {},
   "outputs": [],
   "source": [
    "# from selenium import webdriver\n",
    "from selenium.webdriver.common.by import By\n",
    "from selenium.webdriver.support.ui import WebDriverWait\n",
    "from selenium.webdriver.support import expected_conditions as EC\n",
    "import time\n",
    "from selenium.webdriver import Firefox, Chrome\n",
    "import pandas as pd\n",
    "import re\n",
    "from bs4 import BeautifulSoup as bs\n",
    "import tqdm"
   ]
  },
  {
   "cell_type": "code",
   "execution_count": 36,
   "id": "9e747a80",
   "metadata": {},
   "outputs": [],
   "source": [
    "filename = 'amazon_urls.txt'\n",
    "file = open('amazon_urls.txt')"
   ]
  },
  {
   "cell_type": "code",
   "execution_count": 37,
   "id": "958907e5",
   "metadata": {},
   "outputs": [],
   "source": [
    "LIST=re.split(\"\\r\\n|\\n\",file.read())\n",
    "file.close()"
   ]
  },
  {
   "cell_type": "code",
   "execution_count": 38,
   "id": "ce15232a",
   "metadata": {},
   "outputs": [
    {
     "name": "stdout",
     "output_type": "stream",
     "text": [
      "https://www.amazon.com/dp/B0B3M2GK4X\n",
      "https://www.amazon.com/dp/B08V8HH6JS\n"
     ]
    }
   ],
   "source": [
    "x = []\n",
    "for i in LIST:\n",
    "    print(i.split('~')[-1])\n",
    "    x.append(i.split('~')[-1])"
   ]
  },
  {
   "cell_type": "code",
   "execution_count": 39,
   "id": "5b78ee56",
   "metadata": {},
   "outputs": [
    {
     "data": {
      "text/plain": [
       "['amazon_urls', 'txt']"
      ]
     },
     "execution_count": 39,
     "metadata": {},
     "output_type": "execute_result"
    }
   ],
   "source": [
    "filename.split(\".\")"
   ]
  },
  {
   "cell_type": "code",
   "execution_count": 40,
   "id": "d7ffa2aa",
   "metadata": {},
   "outputs": [
    {
     "data": {
      "text/plain": [
       "2"
      ]
     },
     "execution_count": 40,
     "metadata": {},
     "output_type": "execute_result"
    }
   ],
   "source": [
    "len(x)"
   ]
  },
  {
   "cell_type": "code",
   "execution_count": 41,
   "id": "db620e17",
   "metadata": {},
   "outputs": [
    {
     "name": "stdout",
     "output_type": "stream",
     "text": [
      "dp\n",
      "error\n",
      "['https://www.amazon.com/dp/B0B3M2GK4X', 'https://www.amazon.com/dp/B08V8HH6JS']\n",
      "21\n",
      "Finished...\n"
     ]
    }
   ],
   "source": [
    "reviews,reviewers, reviewtitles,reviewedon,reviewerplace,reviewratings, prodname, dfs = [],[],[],[],[],[],[],[]\n",
    "driver = Firefox()\n",
    "df = pd.DataFrame()\n",
    "driver.maximize_window()\n",
    "i = 0\n",
    "while i != len(x):\n",
    "#     url = 'https://www.amazon.com/Bumble-Building-Repair-Styling-Cream/dp/B08V8HH6JS'\n",
    "    try:\n",
    "        url = x[i]\n",
    "    except:\n",
    "        print('error')\n",
    "        print(x)\n",
    "        print(i)\n",
    "        break\n",
    "    try:\n",
    "        driver.get(url)\n",
    "        product_name = url.split(\"/\")[3].replace(\"-\",\" \")\n",
    "        print(product_name, end='\\n')\n",
    "        prodname.append(product_name)\n",
    "    except Exception as ex:\n",
    "        print(ex)\n",
    "    try:\n",
    "        all_reviews = driver.find_element(By.CSS_SELECTOR,'#reviews-medley-footer .a-text-bold')\n",
    "        all_reviews.click()\n",
    "    except Exception as ex:\n",
    "        print(ex)\n",
    "    while True:\n",
    "        ratings = driver.find_elements(By.XPATH, '//i[@data-hook=\"review-star-rating\"]/span')\n",
    "        lst_of_ratings = driver.find_elements(By.CLASS_NAME, \"review-rating\")\n",
    "        is_verified = driver.find_elements(By.XPATH, '//span[@data-hook=\"avp-badge\"]')\n",
    "        review_title = driver.find_elements(By.XPATH, \"//a[@data-hook='review-title']/span\")\n",
    "        is_verified = driver.find_elements(By.XPATH, '//span[@data-hook=\"avp-badge\"]')\n",
    "        loc_date = driver.find_elements(By.XPATH, \"//span[@data-hook='review-date']\")\n",
    "        review = driver.find_elements(By.XPATH, '//span[@data-hook=\"review-body\"]')\n",
    "        reviewer = driver.find_elements(By.CSS_SELECTOR, '#cm_cr-review_list .a-profile-name')\n",
    "        try:\n",
    "            next_btn = driver.find_element(By.CSS_SELECTOR, \"#cm_cr-pagination_bar a\")\n",
    "        except:\n",
    "            pass\n",
    "        for i in range(len(review_title)):\n",
    "            try:\n",
    "                other, date = loc_date[i].text.split('on')\n",
    "            except:\n",
    "                pass\n",
    "            place = other.split(' ')[3] +\" \"+ other.split(\" \")[4]\n",
    "            reviewedon.append(date)\n",
    "            reviewerplace.append(place)\n",
    "    #         lst_of_ratings = driver.find_elements(By.CLASS_NAME, \"review-rating\")\n",
    "            for value in lst_of_ratings:\n",
    "                try:\n",
    "                    rating = value.get_attribute('textContent')\n",
    "                except:\n",
    "                    rating='Not Available!'\n",
    "            reviewratings.append(rating)\n",
    "            try:\n",
    "    #             print(f\"{reviewer[i].text}\\n{review_title[i].text}\\n{review[i].text}\\n\\n\")\n",
    "                reviews.append(review[i].text)\n",
    "                reviewers.append(reviewer[i].text)\n",
    "                reviewtitles.append(review_title[i].text)\n",
    "            except:\n",
    "                pass\n",
    "    #         df['Reviewer']=reviewer[i].text\n",
    "    #         df['Review Title'] = review_title[i].text\n",
    "    #         df['Review'] = review[i].text\n",
    "\n",
    "    #         print(f\"{reviewer[i].text}\\t{ratings[i].text}\\n{date} , {place}\\n{review_title[i].text}\\n{review[i].text}\\n\\n\")\n",
    "        try:\n",
    "            next_btn = driver.find_element(By.XPATH, \"//ul[@class='a-pagination']/li[2]/a\")\n",
    "            next_btn.click()\n",
    "            time.sleep(5)\n",
    "        except Exception as ex:\n",
    "            break\n",
    "    \n",
    "    data = {'Review Title':reviewtitles,'Reviews':reviews,'Reviewer':reviewers, 'Date':reviewedon,'Place':reviewerplace,\n",
    "       'Rating':reviewratings}\n",
    "    min_length = len(reviewtitles)\n",
    "    df = pd.DataFrame({k:pd.Series(v[:min_length]) for k,v in data.items()})\n",
    "    df['Product'] = product_name\n",
    "    dfs.append(df)\n",
    "    del df\n",
    "    print(i)\n",
    "    i+=1\n",
    "    \n",
    "finaldata = pd.concat(dfs,axis=0)\n",
    "finaldata.to_csv('Amazon_data_'+filename.split('.')[0]+'_.csv',index=False)\n",
    "driver.close()\n",
    "print(\"Finished...\")"
   ]
  }
 ],
 "metadata": {
  "kernelspec": {
   "display_name": "Python 3 (ipykernel)",
   "language": "python",
   "name": "python3"
  },
  "language_info": {
   "codemirror_mode": {
    "name": "ipython",
    "version": 3
   },
   "file_extension": ".py",
   "mimetype": "text/x-python",
   "name": "python",
   "nbconvert_exporter": "python",
   "pygments_lexer": "ipython3",
   "version": "3.9.13"
  }
 },
 "nbformat": 4,
 "nbformat_minor": 5
}
